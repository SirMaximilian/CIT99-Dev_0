{
 "cells": [
  {
   "cell_type": "markdown",
   "metadata": {},
   "source": [
    "## Imports for the Project and Setup"
   ]
  },
  {
   "cell_type": "code",
   "execution_count": null,
   "metadata": {},
   "outputs": [],
   "source": [
    "# Full reset of the camera\n",
    "!echo 'dlinano' | sudo -S systemctl restart nvargus-daemon && printf '\\n'\n",
    "# Check device number\n",
    "#!ls -ltrh /dev/video*"
   ]
  },
  {
   "cell_type": "code",
   "execution_count": null,
   "metadata": {},
   "outputs": [],
   "source": [
    "import torch\n",
    "import torchvision\n",
    "from torchvision import transforms , datasets\n",
    "import torch.nn as nn\n",
    "import torch.nn.functional as F\n",
    "import torch.optim as optim\n",
    "from torchsummary import summary # for model summary\n",
    "import matplotlib.pyplot as plt # for ploting our data and showing images\n",
    "import numpy as np\n",
    "import cv2\n",
    "import dataHelper as dH\n",
    "import os\n",
    "import time\n",
    "import ipywidgets\n",
    "from IPython.display import display, Javascript\n",
    "from jupyter_clickable_image_widget import ClickableImageWidget\n",
    "from IPython.display import display\n",
    "from jetcam.utils import bgr8_to_jpeg\n",
    "from jetcam.csi_camera import CSICamera\n",
    "%matplotlib inline"
   ]
  },
  {
   "cell_type": "code",
   "execution_count": null,
   "metadata": {},
   "outputs": [],
   "source": [
    "camera = CSICamera(width=224, height=224)"
   ]
  },
  {
   "cell_type": "markdown",
   "metadata": {},
   "source": [
    "## Model Setup\n",
    "\n",
    "Here we are letting pytorch know to use the gpu and we are also importing a pretrained resnet18 model that we are modifying to return only 2 outputs. One for X and one for Y."
   ]
  },
  {
   "cell_type": "code",
   "execution_count": null,
   "metadata": {},
   "outputs": [],
   "source": [
    "device = torch.device('cuda')\n",
    "output_dim = 2\n",
    "# RESNET 18\n",
    "model = torchvision.models.resnet18(pretrained=True)\n",
    "model.fc = torch.nn.Linear(512, output_dim)\n",
    "model = model.to(device)"
   ]
  },
  {
   "cell_type": "markdown",
   "metadata": {},
   "source": [
    "## Model Summary\n",
    "This is the inner workings of resnet18."
   ]
  },
  {
   "cell_type": "code",
   "execution_count": null,
   "metadata": {
    "scrolled": true
   },
   "outputs": [],
   "source": [
    "summary(model, input_size=(3,224,224))"
   ]
  },
  {
   "cell_type": "markdown",
   "metadata": {},
   "source": [
    "## Data Collection"
   ]
  },
  {
   "cell_type": "markdown",
   "metadata": {},
   "source": [
    "### Files Structure Setup"
   ]
  },
  {
   "cell_type": "code",
   "execution_count": null,
   "metadata": {},
   "outputs": [],
   "source": [
    "path_raw = os.getcwd() + '/raw_datasets'\n",
    "try:\n",
    "    os.mkdir(path_raw)\n",
    "except OSError:\n",
    "    pass\n",
    "else:\n",
    "    pass"
   ]
  },
  {
   "cell_type": "code",
   "execution_count": null,
   "metadata": {},
   "outputs": [],
   "source": [
    "#config\n",
    "datacollect = False\n",
    "dataSetSize = 25\n",
    "FPScollect = 30\n",
    "SEC_delay = 2\n",
    "\n",
    "\n",
    "loopcounter = 0\n",
    "collectedNum = 0\n",
    "\n",
    "if datacollect == True:\n",
    "    image_widget = ipywidgets.Image(format='jpeg')\n",
    "    captured_frame = ipywidgets.Image(format='jpeg')\n",
    "    \n",
    "    camera.unobserve_all()\n",
    "    print('Get Ready!')\n",
    "    frame = camera.read()\n",
    "    image_widget.value = bgr8_to_jpeg(frame)\n",
    "    captured_frame.value = bgr8_to_jpeg(frame)\n",
    "    #plt.imshow(bgr8_to_jpeg(frame))\n",
    "    time.sleep(6)\n",
    "    display(ipywidgets.HBox([image_widget, captured_frame]))\n",
    "    print('Begin!')\n",
    "    \n",
    "    while True:\n",
    "        if collectedNum == dataSetSize:\n",
    "            break\n",
    "        frame = camera.read()\n",
    "        #plt.imshow(frame)\n",
    "        image_widget.value = bgr8_to_jpeg(frame)\n",
    "        if loopcounter % (FPScollect * SEC_delay) == 0:\n",
    "            # write raw images to file \n",
    "            captured_frame.value = bgr8_to_jpeg(frame)\n",
    "            dH.write_raw_frame(path_raw, frame, collectedNum)\n",
    "            collectedNum += 1\n",
    "        loopcounter += 1\n",
    "print('Done!')"
   ]
  },
  {
   "cell_type": "markdown",
   "metadata": {},
   "source": [
    "## Data Labeling\n",
    "\n",
    "An I oop... data is labeled on aonther PC because some libraries are broke"
   ]
  },
  {
   "cell_type": "markdown",
   "metadata": {},
   "source": [
    "## Model Training"
   ]
  },
  {
   "cell_type": "code",
   "execution_count": null,
   "metadata": {},
   "outputs": [],
   "source": [
    "optimizer = optim.Adam(model.parameters(), lr = 0.0001)\n",
    "\n",
    "EPOCHS = 3\n",
    "\n"
   ]
  }
 ],
 "metadata": {
  "kernelspec": {
   "display_name": "Python 3",
   "language": "python",
   "name": "python3"
  },
  "language_info": {
   "codemirror_mode": {
    "name": "ipython",
    "version": 3
   },
   "file_extension": ".py",
   "mimetype": "text/x-python",
   "name": "python",
   "nbconvert_exporter": "python",
   "pygments_lexer": "ipython3",
   "version": "3.6.8"
  }
 },
 "nbformat": 4,
 "nbformat_minor": 4
}
