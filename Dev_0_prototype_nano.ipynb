{
 "cells": [
  {
   "cell_type": "markdown",
   "metadata": {},
   "source": [
    "## Imports for the Project and Setup"
   ]
  },
  {
   "cell_type": "code",
   "execution_count": null,
   "metadata": {},
   "outputs": [],
   "source": [
    "# Full reset of the camera\n",
    "!echo 'dlinano' | sudo -S systemctl restart nvargus-daemon && printf '\\n'\n",
    "# Check device number\n",
    "#!ls -ltrh /dev/video*"
   ]
  },
  {
   "cell_type": "code",
   "execution_count": 1,
   "metadata": {},
   "outputs": [],
   "source": [
    "import torch\n",
    "import torchvision\n",
    "#from torchvision import transforms , datasets\n",
    "import torch.nn as nn\n",
    "import torch.nn.functional as F\n",
    "import torch.optim as optim\n",
    "from torchsummary import summary # for model summary\n",
    "import matplotlib.pyplot as plt # for ploting our data and showing images\n",
    "import matplotlib.image as mpimg\n",
    "import numpy as np\n",
    "import cv2\n",
    "import dataHelper as dH\n",
    "import os\n",
    "import time\n",
    "import random\n",
    "import ipywidgets\n",
    "from IPython.display import display\n",
    "from utils import preprocess\n",
    "%matplotlib inline"
   ]
  },
  {
   "cell_type": "code",
   "execution_count": 2,
   "metadata": {},
   "outputs": [],
   "source": [
    "from jetcam.utils import bgr8_to_jpeg\n",
    "from jetcam.csi_camera import CSICamera\n",
    "camera = CSICamera(width=224, height=224)"
   ]
  },
  {
   "cell_type": "markdown",
   "metadata": {},
   "source": [
    "## Model Setup\n",
    "\n",
    "Here we are letting pytorch know to use the gpu and we are also importing a pretrained resnet18 model that we are modifying to return only 2 outputs. One for X and one for Y."
   ]
  },
  {
   "cell_type": "code",
   "execution_count": 3,
   "metadata": {},
   "outputs": [],
   "source": [
    "device = torch.device('cuda')\n",
    "output_dim = 2\n",
    "# RESNET 18\n",
    "model = torchvision.models.resnet18(pretrained=True)\n",
    "model.fc = torch.nn.Linear(512, output_dim)\n",
    "model = model.to(device)"
   ]
  },
  {
   "cell_type": "markdown",
   "metadata": {},
   "source": [
    "## Model Summary\n",
    "This is the inner workings of resnet18."
   ]
  },
  {
   "cell_type": "code",
   "execution_count": null,
   "metadata": {
    "scrolled": true
   },
   "outputs": [],
   "source": [
    "summary(model, input_size=(3,224,224))"
   ]
  },
  {
   "cell_type": "markdown",
   "metadata": {
    "toc-hr-collapsed": true
   },
   "source": [
    "## Data Collection"
   ]
  },
  {
   "cell_type": "markdown",
   "metadata": {},
   "source": [
    "### Files Structure Setup"
   ]
  },
  {
   "cell_type": "code",
   "execution_count": 4,
   "metadata": {},
   "outputs": [],
   "source": [
    "path_raw = os.getcwd() + '/raw_datasets'\n",
    "try:\n",
    "    os.mkdir(path_raw)\n",
    "except OSError:\n",
    "    pass\n",
    "else:\n",
    "    pass"
   ]
  },
  {
   "cell_type": "code",
   "execution_count": null,
   "metadata": {},
   "outputs": [],
   "source": [
    "#config\n",
    "datacollect = False\n",
    "dataSetSize = 150\n",
    "FPScollect = 30\n",
    "SEC_delay = .5\n",
    "\n",
    "\n",
    "loopcounter = 0\n",
    "#collectedNum = 0\n",
    "collectedNum = 75\n",
    "\n",
    "if datacollect == True:\n",
    "    image_widget = ipywidgets.Image(format='jpeg')\n",
    "    captured_frame = ipywidgets.Image(format='jpeg')\n",
    "    \n",
    "    camera.unobserve_all()\n",
    "    print('Get Ready!')\n",
    "    frame = camera.read()\n",
    "    image_widget.value = bgr8_to_jpeg(frame)\n",
    "    captured_frame.value = bgr8_to_jpeg(frame)\n",
    "    #plt.imshow(bgr8_to_jpeg(frame))\n",
    "    time.sleep(6)\n",
    "    display(ipywidgets.HBox([image_widget, captured_frame]))\n",
    "    print('Begin!')\n",
    "    \n",
    "    while True:\n",
    "        if collectedNum == dataSetSize:\n",
    "            break\n",
    "        frame = camera.read()\n",
    "        #plt.imshow(frame)\n",
    "        image_widget.value = bgr8_to_jpeg(frame)\n",
    "        if loopcounter % (FPScollect * SEC_delay) == 0:\n",
    "            # write raw images to file \n",
    "            captured_frame.value = bgr8_to_jpeg(frame)\n",
    "            dH.write_raw_frame(path_raw, frame, collectedNum)\n",
    "            collectedNum += 1\n",
    "        loopcounter += 1\n",
    "print('Done!')"
   ]
  },
  {
   "cell_type": "markdown",
   "metadata": {},
   "source": [
    "## Data Labeling\n",
    "\n",
    "An I oop... data is labeled on aonther PC because some libraries are broken"
   ]
  },
  {
   "cell_type": "markdown",
   "metadata": {},
   "source": [
    "## Training Data Build"
   ]
  },
  {
   "cell_type": "code",
   "execution_count": 4,
   "metadata": {
    "scrolled": true
   },
   "outputs": [],
   "source": [
    "\n",
    "REBUILD = False\n",
    "\n",
    "\n",
    "path_labeled = os.getcwd() + '/labeled_datasets'\n",
    "data = os.scandir(path_labeled)\n",
    "\n",
    "\n",
    "#fig = plt.figure()\n",
    "#ax = fig.add_subplot(1,1,1)\n",
    "#plt.axis(\"off\")\n",
    "\n",
    "fill = np.zeros((224,224,2))\n",
    "\n",
    "if REBUILD:\n",
    "    training_data = []\n",
    "    for i in data:\n",
    "        if '.jpg' in i.name:\n",
    "            img = mpimg.imread(path_labeled +'/'+ i.name)\n",
    "            [imgnum, x, y] = dH.label_parser(path_labeled +'/'+ i.name)\n",
    "            #print(f'{imgnum},{x},{y}')\n",
    "            #imgplot = plt.imshow(cv2.cvtColor(img, cv2.COLOR_BGR2RGB))\n",
    "            training_data.append([np.array(img),np.array([x,y])])\n",
    "    np.random.shuffle(training_data)\n",
    "    np.save('training_data.npy', training_data)\n",
    "\n"
   ]
  },
  {
   "cell_type": "markdown",
   "metadata": {},
   "source": [
    "## Model Training"
   ]
  },
  {
   "cell_type": "code",
   "execution_count": 8,
   "metadata": {
    "scrolled": true
   },
   "outputs": [],
   "source": [
    "optimizer = optim.Adam(model.parameters(), lr = 0.0001)\n",
    "loss_func = nn.MSELoss()\n",
    "\n",
    "TRAIN = False\n",
    "\n",
    "EPOCHS = 500\n",
    "BATCH_SIZE = 10\n",
    "\n",
    "training_data = np.load('training_data.npy', allow_pickle=True)\n",
    "training_img = torch.Tensor([i[0] for i in training_data]).view(-1,3,224,224).to(device)\n",
    "training_label = torch.Tensor([i[1] for i in training_data]).view(-1,2).to(device)\n",
    "\n",
    "if False:\n",
    "    model = torch.load('test_run_1')\n",
    "\n",
    "if TRAIN:\n",
    "    \n",
    "    for epoch in range(EPOCHS):\n",
    "        # randomize each epoch\n",
    "        rand_idx = torch.randperm(len(training_data))\n",
    "        \n",
    "        for i in range(0, len(training_data), BATCH_SIZE):\n",
    "            model.zero_grad()\n",
    "            \n",
    "            output = model(training_img[rand_idx[i:i+BATCH_SIZE]].view(-1,3,224,224))\n",
    "            computed_output = 224 * (output / 2.0 + 0.5)\n",
    "            \n",
    "            loss = loss_func(computed_output,training_label[rand_idx[i:i+BATCH_SIZE]].view(-1,2))\n",
    "            loss.backward()\n",
    "            optimizer.step()\n",
    "            #break\n",
    "        #break\n",
    "        print(loss)\n",
    "    '''\n",
    "    print('testing')\n",
    "    print(output)\n",
    "    print(computed_output)\n",
    "    #plt.imshow(check.cpu().view(224,224,3).numpy().astype(int))\n",
    "    '''"
   ]
  },
  {
   "cell_type": "code",
   "execution_count": 10,
   "metadata": {},
   "outputs": [],
   "source": [
    "torch.save(model, 'test_run_1')"
   ]
  },
  {
   "cell_type": "code",
   "execution_count": null,
   "metadata": {
    "scrolled": true
   },
   "outputs": [],
   "source": [
    "lab=training_label[rand_idx[0:8]]\n",
    "lab"
   ]
  },
  {
   "cell_type": "code",
   "execution_count": 9,
   "metadata": {},
   "outputs": [
    {
     "name": "stdout",
     "output_type": "stream",
     "text": [
      "tensor([[110.6149, 124.8975]], device='cuda:0', grad_fn=<MulBackward0>)\n",
      "tensor([190.,  63.], device='cuda:0')\n"
     ]
    }
   ],
   "source": [
    "test_idx = 8\n",
    "o = model(training_img[test_idx].view(-1,3,224,224))\n",
    "c_output = 224 * (o / 2.0 + 0.5)\n",
    "L = training_label[test_idx]\n",
    "print(c_output)\n",
    "print(L)"
   ]
  },
  {
   "cell_type": "markdown",
   "metadata": {},
   "source": [
    "## Evaluation"
   ]
  },
  {
   "cell_type": "code",
   "execution_count": 43,
   "metadata": {},
   "outputs": [
    {
     "data": {
      "application/vnd.jupyter.widget-view+json": {
       "model_id": "3979d643f3854fc6b7266722d0e738c1",
       "version_major": 2,
       "version_minor": 0
      },
      "text/plain": [
       "Image(value=b'\\xff\\xd8\\xff\\xe0\\x00\\x10JFIF\\x00\\x01\\x01\\x00\\x00\\x01\\x00\\x01\\x00\\x00\\xff\\xdb\\x00C\\x00\\x02\\x01\\x0…"
      ]
     },
     "metadata": {},
     "output_type": "display_data"
    },
    {
     "ename": "KeyboardInterrupt",
     "evalue": "",
     "output_type": "error",
     "traceback": [
      "\u001b[0;31m---------------------------------------------------------------------------\u001b[0m",
      "\u001b[0;31mKeyboardInterrupt\u001b[0m                         Traceback (most recent call last)",
      "\u001b[0;32m<ipython-input-43-9d7d4a07f6c5>\u001b[0m in \u001b[0;36m<module>\u001b[0;34m\u001b[0m\n\u001b[1;32m     17\u001b[0m         \u001b[0mimage\u001b[0m \u001b[0;34m=\u001b[0m \u001b[0mcamera\u001b[0m\u001b[0;34m.\u001b[0m\u001b[0mread\u001b[0m\u001b[0;34m(\u001b[0m\u001b[0;34m)\u001b[0m\u001b[0;34m\u001b[0m\u001b[0;34m\u001b[0m\u001b[0m\n\u001b[1;32m     18\u001b[0m         \u001b[0minput_tensor\u001b[0m \u001b[0;34m=\u001b[0m \u001b[0mtorch\u001b[0m\u001b[0;34m.\u001b[0m\u001b[0mTensor\u001b[0m\u001b[0;34m(\u001b[0m\u001b[0mimage\u001b[0m\u001b[0;34m)\u001b[0m\u001b[0;34m.\u001b[0m\u001b[0mview\u001b[0m\u001b[0;34m(\u001b[0m\u001b[0;34m-\u001b[0m\u001b[0;36m1\u001b[0m\u001b[0;34m,\u001b[0m\u001b[0;36m3\u001b[0m\u001b[0;34m,\u001b[0m\u001b[0;36m224\u001b[0m\u001b[0;34m,\u001b[0m\u001b[0;36m224\u001b[0m\u001b[0;34m)\u001b[0m\u001b[0;34m.\u001b[0m\u001b[0mto\u001b[0m\u001b[0;34m(\u001b[0m\u001b[0mdevice\u001b[0m\u001b[0;34m)\u001b[0m\u001b[0;34m\u001b[0m\u001b[0;34m\u001b[0m\u001b[0m\n\u001b[0;32m---> 19\u001b[0;31m         \u001b[0moutput\u001b[0m \u001b[0;34m=\u001b[0m \u001b[0mmodel\u001b[0m\u001b[0;34m(\u001b[0m\u001b[0minput_tensor\u001b[0m\u001b[0;34m)\u001b[0m\u001b[0;34m.\u001b[0m\u001b[0mdetach\u001b[0m\u001b[0;34m(\u001b[0m\u001b[0;34m)\u001b[0m\u001b[0;34m.\u001b[0m\u001b[0mcpu\u001b[0m\u001b[0;34m(\u001b[0m\u001b[0;34m)\u001b[0m\u001b[0;34m.\u001b[0m\u001b[0mnumpy\u001b[0m\u001b[0;34m(\u001b[0m\u001b[0;34m)\u001b[0m\u001b[0;34m.\u001b[0m\u001b[0mflatten\u001b[0m\u001b[0;34m(\u001b[0m\u001b[0;34m)\u001b[0m\u001b[0;34m\u001b[0m\u001b[0;34m\u001b[0m\u001b[0m\n\u001b[0m\u001b[1;32m     20\u001b[0m         \u001b[0mimage\u001b[0m \u001b[0;34m=\u001b[0m \u001b[0mcv2\u001b[0m\u001b[0;34m.\u001b[0m\u001b[0mcircle\u001b[0m\u001b[0;34m(\u001b[0m\u001b[0mimage\u001b[0m\u001b[0;34m,\u001b[0m \u001b[0;34m(\u001b[0m\u001b[0mint\u001b[0m\u001b[0;34m(\u001b[0m\u001b[0;36m224\u001b[0m \u001b[0;34m*\u001b[0m \u001b[0;34m(\u001b[0m\u001b[0moutput\u001b[0m\u001b[0;34m[\u001b[0m\u001b[0;36m0\u001b[0m\u001b[0;34m]\u001b[0m \u001b[0;34m/\u001b[0m \u001b[0;36m2.0\u001b[0m \u001b[0;34m+\u001b[0m \u001b[0;36m0.5\u001b[0m\u001b[0;34m)\u001b[0m\u001b[0;34m)\u001b[0m\u001b[0;34m,\u001b[0m \u001b[0mint\u001b[0m\u001b[0;34m(\u001b[0m\u001b[0;36m224\u001b[0m \u001b[0;34m*\u001b[0m \u001b[0;34m(\u001b[0m\u001b[0moutput\u001b[0m\u001b[0;34m[\u001b[0m\u001b[0;36m1\u001b[0m\u001b[0;34m]\u001b[0m \u001b[0;34m/\u001b[0m \u001b[0;36m2.0\u001b[0m \u001b[0;34m+\u001b[0m \u001b[0;36m0.5\u001b[0m\u001b[0;34m)\u001b[0m\u001b[0;34m)\u001b[0m\u001b[0;34m)\u001b[0m\u001b[0;34m,\u001b[0m \u001b[0;36m8\u001b[0m\u001b[0;34m,\u001b[0m \u001b[0;34m(\u001b[0m\u001b[0;36m255\u001b[0m\u001b[0;34m,\u001b[0m \u001b[0;36m0\u001b[0m\u001b[0;34m,\u001b[0m \u001b[0;36m0\u001b[0m\u001b[0;34m)\u001b[0m\u001b[0;34m,\u001b[0m \u001b[0;36m3\u001b[0m\u001b[0;34m)\u001b[0m\u001b[0;34m\u001b[0m\u001b[0;34m\u001b[0m\u001b[0m\n\u001b[1;32m     21\u001b[0m         \u001b[0meval_iwdget\u001b[0m\u001b[0;34m.\u001b[0m\u001b[0mvalue\u001b[0m \u001b[0;34m=\u001b[0m \u001b[0mbgr8_to_jpeg\u001b[0m\u001b[0;34m(\u001b[0m\u001b[0mimage\u001b[0m\u001b[0;34m)\u001b[0m\u001b[0;34m\u001b[0m\u001b[0;34m\u001b[0m\u001b[0m\n",
      "\u001b[0;31mKeyboardInterrupt\u001b[0m: "
     ]
    }
   ],
   "source": [
    "\n",
    "Eval = True\n",
    "camera.running = False\n",
    "if Eval:\n",
    "    camera.unobserve_all()\n",
    "    eval_iwdget = ipywidgets.Image(format='jpeg')\n",
    "    \n",
    "    image = camera.read()\n",
    "    input_tensor = torch.Tensor(image).view(-1,3,224,224).to(device)\n",
    "    output = model(input_tensor).detach().cpu().numpy().flatten()\n",
    "    #print(224 * (output / 2.0 + 0.5))\n",
    "    image = cv2.circle(image, (int(224 * (output[0] / 2.0 + 0.5)), int(224 * (output[1] / 2.0 + 0.5))), 8, (255, 0, 0), 3)\n",
    "    eval_iwdget.value = bgr8_to_jpeg(image)\n",
    "    display(eval_iwdget)\n",
    "    \n",
    "    \n",
    "    while True:\n",
    "        image = camera.read()\n",
    "        input_tensor = torch.Tensor(image).view(-1,3,224,224).to(device)\n",
    "        output = model(input_tensor).detach().cpu().numpy().flatten()\n",
    "        image = cv2.circle(image, (int(224 * (output[0] / 2.0 + 0.5)), int(224 * (output[1] / 2.0 + 0.5))), 8, (255, 0, 0), 3)\n",
    "        eval_iwdget.value = bgr8_to_jpeg(image)\n",
    "    \n",
    "    \n",
    "    #prediction = cv2.circle(prediction, (x, y), 8, (255, 0, 0), 3)"
   ]
  },
  {
   "cell_type": "code",
   "execution_count": 35,
   "metadata": {},
   "outputs": [],
   "source": []
  }
 ],
 "metadata": {
  "kernelspec": {
   "display_name": "Python 3",
   "language": "python",
   "name": "python3"
  },
  "language_info": {
   "codemirror_mode": {
    "name": "ipython",
    "version": 3
   },
   "file_extension": ".py",
   "mimetype": "text/x-python",
   "name": "python",
   "nbconvert_exporter": "python",
   "pygments_lexer": "ipython3",
   "version": "3.6.8"
  }
 },
 "nbformat": 4,
 "nbformat_minor": 4
}
