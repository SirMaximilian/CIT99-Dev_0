{
 "cells": [
  {
   "cell_type": "markdown",
   "metadata": {},
   "source": [
    "## Imports for the Project"
   ]
  },
  {
   "cell_type": "code",
   "execution_count": 11,
   "metadata": {},
   "outputs": [],
   "source": [
    "import torch\n",
    "import torchvision\n",
    "from torchvision import transforms , datasets\n",
    "import torch.nn as nn\n",
    "import torch.nn.functional as F\n",
    "import torch.optim as optim\n",
    "from torchsummary import summary # for model summary\n",
    "import matplotlib.pyplot as plt # for ploting our data and showing images\n",
    "import numpy as np\n",
    "import cv2\n",
    "import dataHelper as dH\n",
    "import os\n",
    "import time\n",
    "import ipywidgets\n",
    "from IPython.display import display\n",
    "from jupyter_clickable_image_widget import ClickableImageWidget"
   ]
  },
  {
   "cell_type": "markdown",
   "metadata": {},
   "source": [
    "## Model Setup\n",
    "\n",
    "Here we are letting pytorch know to use the gpu and we are also importing a pretrained resnet18 model that we are modifying to return only 2 outputs. One for X and one for Y."
   ]
  },
  {
   "cell_type": "code",
   "execution_count": null,
   "metadata": {},
   "outputs": [],
   "source": [
    "device = torch.device('cuda')\n",
    "output_dim = 2\n",
    "# RESNET 18\n",
    "model = torchvision.models.resnet18(pretrained=True)\n",
    "model.fc = torch.nn.Linear(512, output_dim)\n",
    "model = model.to(device)"
   ]
  },
  {
   "cell_type": "markdown",
   "metadata": {},
   "source": [
    "## Model Summary\n",
    "This is the inner workings of resnet18."
   ]
  },
  {
   "cell_type": "code",
   "execution_count": null,
   "metadata": {
    "scrolled": true
   },
   "outputs": [],
   "source": [
    "summary(model, input_size=(3,224,224))"
   ]
  },
  {
   "cell_type": "markdown",
   "metadata": {},
   "source": [
    "## Data Collection"
   ]
  },
  {
   "cell_type": "markdown",
   "metadata": {},
   "source": [
    "### Files Structure Setup"
   ]
  },
  {
   "cell_type": "code",
   "execution_count": null,
   "metadata": {},
   "outputs": [],
   "source": [
    "path_raw = os.getcwd() + '/raw_datasets'\n",
    "try:\n",
    "    os.mkdir(path_raw)\n",
    "except OSError:\n",
    "    pass\n",
    "else:\n",
    "    pass"
   ]
  },
  {
   "cell_type": "code",
   "execution_count": null,
   "metadata": {},
   "outputs": [],
   "source": [
    "#config\n",
    "datacollect = False\n",
    "dataSetSize = 5\n",
    "FPScollect = 30\n",
    "SEC_delay = 2\n",
    "\n",
    "\n",
    "loopcounter = 0\n",
    "collectedNum = 0\n",
    "\n",
    "if datacollect == True:\n",
    "    \n",
    "    cap = cv2.VideoCapture(0)\n",
    "    print('Get Ready!')\n",
    "    cv2.imshow('frame',frame)\n",
    "    cv2.imshow('crop', dH.imgcrop224(frame))\n",
    "    time.sleep(6)\n",
    "    print('Begin!')\n",
    "    \n",
    "    while True:\n",
    "        if collectedNum == dataSetSize:\n",
    "            break\n",
    "        ret, frame = cap.read()\n",
    "        cv2.imshow('frame',frame)\n",
    "        if loopcounter % (FPScollect * SEC_delay) == 0:\n",
    "            cv2.imshow('crop', dH.imgcrop224(frame))\n",
    "            # write raw images to file \n",
    "            dH.write_raw_frame(path_raw, dH.imgcrop224(frame), collectedNum)\n",
    "            collectedNum += 1\n",
    "        loopcounter += 1\n",
    "        if cv2.waitKey(1) & 0xFF == ord('q'):\n",
    "            break\n",
    "\n",
    "            \n",
    "print('Done!')\n",
    "cap.release()\n",
    "cv2.destroyAllWindows()"
   ]
  },
  {
   "cell_type": "markdown",
   "metadata": {},
   "source": [
    "## Data Labeling"
   ]
  },
  {
   "cell_type": "code",
   "execution_count": 20,
   "metadata": {},
   "outputs": [],
   "source": [
    "path_labeled = os.getcwd() + '/labeled_datasets'\n",
    "try:\n",
    "    os.mkdir(path_labeled)\n",
    "except OSError:\n",
    "    pass\n",
    "else:\n",
    "    pass\n",
    "\n",
    "def on_click(_, content,msg):\n",
    "        if content['event'] == 'click':\n",
    "            data = content['eventData']\n",
    "            x = data['offsetX']\n",
    "            y = data['offsetY']\n",
    "            print(f'{x},{y}')"
   ]
  },
  {
   "cell_type": "code",
   "execution_count": 25,
   "metadata": {},
   "outputs": [
    {
     "data": {
      "application/vnd.jupyter.widget-view+json": {
       "model_id": "05137c2d18a2415a94ae4b23589752be",
       "version_major": 2,
       "version_minor": 0
      },
      "text/plain": [
       "Image(value=b'\\xff\\xd8\\xff\\xe0\\x00\\x10JFIF\\x00\\x01\\x01\\x00\\x00\\x01\\x00\\x01\\x00\\x00\\xff\\xdb\\x00C\\x00\\x02\\x01\\x0…"
      ]
     },
     "metadata": {},
     "output_type": "display_data"
    },
    {
     "data": {
      "application/vnd.jupyter.widget-view+json": {
       "model_id": "962334c9f1134882aca3cbeed74774f6",
       "version_major": 2,
       "version_minor": 0
      },
      "text/plain": [
       "ClickableImageWidget(value=b'\\xff\\xd8\\xff\\xe0\\x00\\x10JFIF\\x00\\x01\\x01\\x00\\x00\\x01\\x00\\x01\\x00\\x00\\xff\\xdb\\x00C…"
      ]
     },
     "metadata": {},
     "output_type": "display_data"
    }
   ],
   "source": [
    "datalabel = True\n",
    "\n",
    "if datalabel == True:\n",
    "    with open(path_raw + '/' +'img_raw.0.jpg', \"rb\") as f:\n",
    "        image = f.read()\n",
    "        click_widget = ClickableImageWidget(\n",
    "            value=image,\n",
    "            width=224,\n",
    "            height=224)\n",
    "    \n",
    "    with open(path_raw + '/' +'img_raw.1.jpg', \"rb\") as f:\n",
    "        image = f.read()\n",
    "        w = ipywidgets.Image(\n",
    "            value=image,\n",
    "            width=224,\n",
    "            height=224)\n",
    "\n",
    "    click_widget.on_msg(on_click)\n",
    "    #display(ipywidgets.HBox([w]))\n",
    "    display(w)\n",
    "    display(click_widget)"
   ]
  },
  {
   "cell_type": "code",
   "execution_count": 9,
   "metadata": {},
   "outputs": [],
   "source": []
  },
  {
   "cell_type": "code",
   "execution_count": null,
   "metadata": {},
   "outputs": [],
   "source": []
  }
 ],
 "metadata": {
  "kernelspec": {
   "display_name": "Python 3",
   "language": "python",
   "name": "python3"
  },
  "language_info": {
   "codemirror_mode": {
    "name": "ipython",
    "version": 3
   },
   "file_extension": ".py",
   "mimetype": "text/x-python",
   "name": "python",
   "nbconvert_exporter": "python",
   "pygments_lexer": "ipython3",
   "version": "3.7.2"
  }
 },
 "nbformat": 4,
 "nbformat_minor": 4
}
